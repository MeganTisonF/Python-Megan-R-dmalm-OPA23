{
 "cells": [
  {
   "cell_type": "code",
   "execution_count": 9,
   "metadata": {},
   "outputs": [
    {
     "name": "stdout",
     "output_type": "stream",
     "text": [
      "The number is positive.\n"
     ]
    }
   ],
   "source": [
    "# Ask user to input a number\n",
    "number = float(input(\"Enter a number: \"))\n",
    "\n",
    "# Check if the number is positive, negative, or zero\n",
    "if number > 0:\n",
    "    print(\"The number is positive.\")\n",
    "elif number < 0:\n",
    "    print(\"The number is negative.\")\n",
    "else:\n",
    "    print(\"The number is zero.\")"
   ]
  },
  {
   "cell_type": "code",
   "execution_count": 10,
   "metadata": {},
   "outputs": [
    {
     "name": "stdout",
     "output_type": "stream",
     "text": [
      "The smallest number is:  5.0\n"
     ]
    }
   ],
   "source": [
    "numb1= float(input(\"Enter the first number: \"))\n",
    "\n",
    "numb2 = float(input(\"Enter the second number: \"))\n",
    "\n",
    "if numb1 < numb2:\n",
    "    print (\"The smallest number is: \", numb1)\n",
    "\n",
    "elif numb2 < numb1:\n",
    "    print (\"The smallest number is: \", numb2)\n",
    "\n",
    "else:\n",
    "    print (\"Both numbers are equal.\")"
   ]
  },
  {
   "cell_type": "code",
   "execution_count": 12,
   "metadata": {},
   "outputs": [
    {
     "name": "stdout",
     "output_type": "stream",
     "text": [
      "Invalid input! The triangle do not form a valid triangle.\n"
     ]
    }
   ],
   "source": [
    "# Ask the user to input three angles\n",
    "angle1 = float(input(\"Enter the first angle\"))\n",
    "angle2 = float(input(\"Enter the second angle\"))\n",
    "angle3 = float(input(\"Enter the third angle\"))\n",
    "\n",
    "if angle1 + angle2 + angle3 ==180:\n",
    "    #Check if the angle is a right angle\n",
    "    if angle1 == 90 or angle2 == 90 or angle3 == 90:\n",
    "        print (\"The triangle has a right angle \")\n",
    "    else:\n",
    "        print (\"The triangle does not have the right angle\")\n",
    "else: \n",
    "    print(\"Invalid input! The triangle do not form a valid triangle.\")"
   ]
  },
  {
   "cell_type": "code",
   "execution_count": null,
   "metadata": {},
   "outputs": [],
   "source": [
    "# Ask the user to input age and weight\n",
    "age = int(input(\"Enter age in years: \"))\n",
    "weight = float(input(\"Enter weight in kg: \"))\n",
    "\n",
    "# Determine the number of pills based on age and weight\n",
    "\n",
    "if weight > 40 or age >12: \n",
    "    print (\"Recommended number of pills: 1-2\")\n",
    "elif 26 <= weight <=40 or 7 <= age <= 12:\n",
    "    print(\"Recommended number of pills: 1/2-1\")\n",
    "elif 15 <= weight <=25 or 3 <= age <=7:\n",
    "    print(\"Recommended number of pills: 1/2\")\n",
    "else:\n",
    "    print (\"Age and wegiht combination not covered.\")\n",
    "    "
   ]
  },
  {
   "cell_type": "code",
   "execution_count": null,
   "metadata": {},
   "outputs": [],
   "source": []
  }
 ],
 "metadata": {
  "kernelspec": {
   "display_name": "venv",
   "language": "python",
   "name": "python3"
  },
  "language_info": {
   "codemirror_mode": {
    "name": "ipython",
    "version": 3
   },
   "file_extension": ".py",
   "mimetype": "text/x-python",
   "name": "python",
   "nbconvert_exporter": "python",
   "pygments_lexer": "ipython3",
   "version": "3.11.7"
  }
 },
 "nbformat": 4,
 "nbformat_minor": 2
}
