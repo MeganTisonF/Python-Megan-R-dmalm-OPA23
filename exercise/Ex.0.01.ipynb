{
 "cells": [
  {
   "cell_type": "markdown",
   "metadata": {},
   "source": [
    "Ask the user to input a number and check if this number is positive, negative or zero and print it out."
   ]
  },
  {
   "cell_type": "code",
   "execution_count": 3,
   "metadata": {},
   "outputs": [
    {
     "name": "stdout",
     "output_type": "stream",
     "text": [
      "The number is positive.\n"
     ]
    }
   ],
   "source": [
    "# Ask user to input a number\n",
    "number = float(input(\"Enter a number: \"))\n",
    "\n",
    "# Check if the number is positive, negative, or zero\n",
    "if number > 0:\n",
    "    print(\"The number is positive.\")\n",
    "elif number < 0:\n",
    "    print(\"The number is negative.\")\n",
    "else:\n",
    "    print(\"The number is zero.\")"
   ]
  },
  {
   "cell_type": "code",
   "execution_count": null,
   "metadata": {},
   "outputs": [
    {
     "name": "stdout",
     "output_type": "stream",
     "text": [
      "The smallest number is:  5.0\n"
     ]
    }
   ],
   "source": [
    "numb1= float(input(\"Enter the first number: \"))\n",
    "\n",
    "numb2 = float(input(\"Enter the second number: \"))\n",
    "\n",
    "if numb1 < numb2:\n",
    "    print (\"The smallest number is: \", numb1)\n",
    "\n",
    "elif numb2 < numb1:\n",
    "    print (\"The smallest number is: \", numb2)\n",
    "\n",
    "else:\n",
    "    print (\"Both numbers are equal.\")"
   ]
  },
  {
   "cell_type": "markdown",
   "metadata": {},
   "source": [
    "Ask the user to input three angles and check if the triangle has a right angle. Your code should make sure that all three angles are valid and make up a triangle."
   ]
  },
  {
   "cell_type": "code",
   "execution_count": null,
   "metadata": {},
   "outputs": [
    {
     "name": "stdout",
     "output_type": "stream",
     "text": [
      "Invalid input! The triangle do not form a valid triangle.\n"
     ]
    }
   ],
   "source": [
    "# Ask the user to input three angles\n",
    "angle1 = float(input(\"Enter the first angle\"))\n",
    "angle2 = float(input(\"Enter the second angle\"))\n",
    "angle3 = float(input(\"Enter the third angle\"))\n",
    "\n",
    "if angle1 + angle2 + angle3 ==180:\n",
    "    #Check if the angle is a right angle\n",
    "    if angle1 == 90 or angle2 == 90 or angle3 == 90:\n",
    "        print (\"The triangle has a right angle \")\n",
    "    else:\n",
    "        print (\"The triangle does not have the right angle\")\n",
    "else: \n",
    "    print(\"Invalid input! The triangle do not form a valid triangle.\")"
   ]
  },
  {
   "cell_type": "markdown",
   "metadata": {},
   "source": [
    "The information in the following table is stated in a medicine package. Also it is stated that for children weight is more important than age.\n",
    "\n",
    "Age\tNumber of pills\n",
    "Adults & adolescent\n",
    "over 40 kg\tover 12 years\t1-2\n",
    "Children 26-40 kg\t7-12 years\t1/2-1\n",
    "Children 15-25 kg\t3-7 years\t1/2\n",
    "Let the user input an age and a weight, the program should recommend the number of pills for the use"
   ]
  },
  {
   "cell_type": "code",
   "execution_count": null,
   "metadata": {},
   "outputs": [],
   "source": [
    "# Ask the user to input age and weight\n",
    "age = int(input(\"Enter age in years: \"))\n",
    "weight = float(input(\"Enter weight in kg: \"))\n",
    "\n",
    "# Determine the number of pills based on age and weight\n",
    "\n",
    "if weight > 40 or age >12: \n",
    "    print (\"Recommended number of pills: 1-2\")\n",
    "elif 26 <= weight <=40 or 7 <= age <= 12:\n",
    "    print(\"Recommended number of pills: 1/2-1\")\n",
    "elif 15 <= weight <=25 or 3 <= age <=7:\n",
    "    print(\"Recommended number of pills: 1/2\")\n",
    "else:\n",
    "    print (\"Age and wegiht combination not covered.\")\n",
    "    "
   ]
  },
  {
   "cell_type": "markdown",
   "metadata": {},
   "source": [
    "Divisible (*)\n",
    "Let the user input a number. Check if the number is\n",
    "\n",
    "even or odd\n",
    "is divisible by 5\n",
    "is divisble by 5 and odd"
   ]
  },
  {
   "cell_type": "code",
   "execution_count": null,
   "metadata": {},
   "outputs": [
    {
     "name": "stdout",
     "output_type": "stream",
     "text": [
      "Number is even.\n",
      "Number is divisible by 5.\n",
      "Number is not divisible by 5 and odd.\n"
     ]
    }
   ],
   "source": [
    "def check_number(number):\n",
    "    if number % 2 == 0:\n",
    "        print(\"Number is even.\")\n",
    "    else:\n",
    "        print(\"Number is odd.\")\n",
    "    if number % 5 == 0:\n",
    "        print(\"Number is divisible by 5.\")\n",
    "    else:\n",
    "        print(\"Number is not divisible by 5.\")\n",
    "    if number % 5 == 0 and number % 2 != 0:\n",
    "        print (\"Number is divisible by 5 and odd.\")\n",
    "    else: \n",
    "        print(\"Number is not divisible by 5 and odd.\")\n",
    "    \n",
    "\n",
    "    # Låt användaren mata in ett nummer\n",
    "user_input = int(input(\"Mata in ett heltal: \"))\n",
    "check_number(user_input)"
   ]
  },
  {
   "cell_type": "markdown",
   "metadata": {},
   "source": [
    "The maximum allowed luggage size for boarding an airplane is:\n",
    "\n",
    "weight: 8kg\n",
    "dimensions: 55x40x23cm (length x width x height)\n",
    "Let the user input weight, length, width and height of the luggage. The program should check if the luggage is allowed or not."
   ]
  },
  {
   "cell_type": "code",
   "execution_count": 4,
   "metadata": {},
   "outputs": [
    {
     "name": "stdout",
     "output_type": "stream",
     "text": [
      "Bagaget är inte tillåtet för ombordstigning.\n"
     ]
    }
   ],
   "source": [
    "def check_luggage(weight, length, width, height):\n",
    "    max_weight = 8\n",
    "    max_length = 55\n",
    "    max_width = 40\n",
    "    max_height = 23\n",
    "\n",
    "    if weight <= max_weight and length <= max_length and width <= max_width and height <= max_height:\n",
    "        print(\"Bagaget är tillåtet för ombordstigning.\")\n",
    "    else:\n",
    "        print(\"Bagaget är inte tillåtet för ombordstigning.\")\n",
    "\n",
    "# Låt användaren mata in vikt, längd, bredd och höjd för bagaget\n",
    "weight = float(input(\"Ange bagagets vikt (kg): \"))\n",
    "length = float(input(\"Ange bagagets längd (cm): \"))\n",
    "width = float(input(\"Ange bagagets bredd (cm): \"))\n",
    "height = float(input(\"Ange bagagets höjd (cm): \"))\n",
    "\n",
    "check_luggage(weight, length, width, height)"
   ]
  }
 ],
 "metadata": {
  "kernelspec": {
   "display_name": "venv",
   "language": "python",
   "name": "python3"
  },
  "language_info": {
   "codemirror_mode": {
    "name": "ipython",
    "version": 3
   },
   "file_extension": ".py",
   "mimetype": "text/x-python",
   "name": "python",
   "nbconvert_exporter": "python",
   "pygments_lexer": "ipython3",
   "version": "3.11.7"
  }
 },
 "nbformat": 4,
 "nbformat_minor": 2
}
