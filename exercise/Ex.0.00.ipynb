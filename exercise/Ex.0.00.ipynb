{
 "cells": [
  {
   "cell_type": "code",
   "execution_count": 5,
   "metadata": {},
   "outputs": [
    {
     "name": "stdout",
     "output_type": "stream",
     "text": [
      "Part a) The hypotenuse of the right-angled triangle is: 5.0\n",
      "Part b The lenght of the other cathetus is: 4.9\n"
     ]
    }
   ],
   "source": [
    "import math\n",
    "import matplotlib.pyplot as plt \n",
    "\n",
    "a = 3\n",
    "b = 4\n",
    "hypotenuse = math.sqrt (a**2 +  b**2)\n",
    "\n",
    "print (\"Part a) The hypotenuse of the right-angled triangle is:\", hypotenuse)\n",
    "\n",
    "c = 7.0\n",
    "a = 5.0\n",
    "\n",
    "other_cathetus = math.sqrt(c**2 - a**2)\n",
    "rounded_other_cathetus = round(other_cathetus, 1)\n",
    "\n",
    "print (\"Part b The lenght of the other cathetus is:\", rounded_other_cathetus)"
   ]
  },
  {
   "cell_type": "code",
   "execution_count": 4,
   "metadata": {},
   "outputs": [
    {
     "name": "stdout",
     "output_type": "stream",
     "text": [
      "The ammount of correct is 0.821917808219178\n"
     ]
    }
   ],
   "source": [
    "predictions_correct = 300\n",
    "\n",
    "predicitons_all = 365\n",
    "\n",
    "predicitons_outofall = predictions_correct / predicitons_all\n",
    "\n",
    "print (\"The amount of correct is\", predicitons_outofall)"
   ]
  },
  {
   "cell_type": "code",
   "execution_count": 6,
   "metadata": {},
   "outputs": [
    {
     "name": "stdout",
     "output_type": "stream",
     "text": [
      "0.987\n"
     ]
    }
   ],
   "source": [
    "TP = 2\n",
    "TN = 985\n",
    "\n",
    "FP = 2\n",
    "FN = 11\n",
    "\n",
    "TPTN = TP + TN \n",
    "\n",
    "All_four = TP + TN + FP + FN\n",
    "\n",
    "accuracy = TPTN / All_four\n",
    "\n",
    "print (accuracy)"
   ]
  },
  {
   "cell_type": "code",
   "execution_count": 1,
   "metadata": {},
   "outputs": [
    {
     "name": "stdout",
     "output_type": "stream",
     "text": [
      "Lutningen är: 0.75\n",
      "Den konstanta termen är: 1.0\n"
     ]
    }
   ],
   "source": [
    "# Koordinaterna för punkterna A och B\n",
    "x1, y1 = 4, 4\n",
    "x2, y2 = 0, 1\n",
    "\n",
    "# Beräkna lutningen\n",
    "\n",
    "m = (y2 - y1) / (x2 - x1)\n",
    "\n",
    "# Beräkna den konstanta termen (b) med hjälp av punkten A och lutningen m\n",
    "b = y1 - m * x1\n",
    "\n",
    "print(\"Lutningen är:\", m)\n",
    "print(\"Den konstanta termen är:\", b)"
   ]
  },
  {
   "cell_type": "code",
   "execution_count": null,
   "metadata": {},
   "outputs": [],
   "source": [
    "import math\n",
    "\n",
    "# Coordinates of points p1 and p2\n",
    "x1, y1 = 3, 5\n",
    "x2, y2 = -2, 4\n",
    "\n",
    "# Calculate the Euclidean distance\n",
    "distance = math.sqrt((x2 - x1)**2 + (y2 - y1)**2)\n",
    "\n",
    "print(\"The Euclidean distance between p1 and p2 is:\", distance)"
   ]
  },
  {
   "cell_type": "code",
   "execution_count": 1,
   "metadata": {},
   "outputs": [
    {
     "name": "stdout",
     "output_type": "stream",
     "text": [
      "Distance between the points: <function distance_between_points at 0x000001EE068FC220>\n"
     ]
    }
   ],
   "source": [
    "import math \n",
    "\n",
    "def distance_between_points (p1, p2) : \n",
    "    x1, y1, z1 = p1\n",
    "    x2, y2, z2 = p2\n",
    "    distance = math.sqrt((x2 - x1)**2 + (y2 - y1)**2 + (z2 - z1)**2)\n",
    "    return distance \n",
    "\n",
    "# Define the points\n",
    "p1 = (2, 1, 4)\n",
    "p2 = (3, 1, 0)\n",
    "\n",
    "# Calculate the distance\n",
    "distance = distance_between_points\n",
    "print (\"Distance between the points:\", distance)"
   ]
  }
 ],
 "metadata": {
  "kernelspec": {
   "display_name": "venv",
   "language": "python",
   "name": "python3"
  },
  "language_info": {
   "codemirror_mode": {
    "name": "ipython",
    "version": 3
   },
   "file_extension": ".py",
   "mimetype": "text/x-python",
   "name": "python",
   "nbconvert_exporter": "python",
   "pygments_lexer": "ipython3",
   "version": "3.11.7"
  }
 },
 "nbformat": 4,
 "nbformat_minor": 2
}
