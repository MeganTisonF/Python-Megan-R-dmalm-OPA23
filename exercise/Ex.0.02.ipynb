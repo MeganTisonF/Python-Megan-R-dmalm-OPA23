{
 "cells": [
  {
   "cell_type": "markdown",
   "metadata": {},
   "source": [
    "Use a while statement to count from -10 to 10 with one increment."
   ]
  },
  {
   "cell_type": "code",
   "execution_count": 1,
   "metadata": {},
   "outputs": [
    {
     "name": "stdout",
     "output_type": "stream",
     "text": [
      "-10\n",
      "-9\n",
      "-8\n",
      "-7\n",
      "-6\n",
      "-5\n",
      "-4\n",
      "-3\n",
      "-2\n",
      "-1\n",
      "0\n",
      "1\n",
      "2\n",
      "3\n",
      "4\n",
      "5\n",
      "6\n",
      "7\n",
      "8\n",
      "9\n",
      "10\n"
     ]
    }
   ],
   "source": [
    "# Initialize the counter\n",
    "counter = -10\n",
    "\n",
    "# Loop until the counter reaches 10\n",
    "while counter <= 10:\n",
    "    print(counter)\n",
    "    counter += 1  # Increment the counter by 1"
   ]
  },
  {
   "cell_type": "markdown",
   "metadata": {},
   "source": [
    "Use a while statement to compute the following sums:\n",
    "a) sum = 1+2+...+99+100\n",
    "b) sum = 1+3+5+...+97+99"
   ]
  },
  {
   "cell_type": "code",
   "execution_count": 3,
   "metadata": {},
   "outputs": [
    {
     "name": "stdout",
     "output_type": "stream",
     "text": [
      "Sum of numbers from 1 to 100: 5050\n",
      "Sum of odd numbers from 1 to 99: 2500\n"
     ]
    }
   ],
   "source": [
    "# Initialize variables\n",
    "sum_a = 0\n",
    "counter_a = 1\n",
    "\n",
    "# Loop to compute the sum\n",
    "while counter_a <= 100:\n",
    "    sum_a += counter_a\n",
    "    counter_a += 1\n",
    "\n",
    "print(\"Sum of numbers from 1 to 100:\", sum_a)\n",
    "\n",
    "# Initialize variables\n",
    "sum_b = 0\n",
    "counter_b = 1\n",
    "\n",
    "# Loop to compute the sum\n",
    "while counter_b <= 99:\n",
    "    sum_b += counter_b\n",
    "    counter_b += 2  # Increment by 2 to get odd numbers\n",
    "\n",
    "print(\"Sum of odd numbers from 1 to 99:\", sum_b)"
   ]
  },
  {
   "cell_type": "markdown",
   "metadata": {},
   "source": [
    "a)\n",
    "Create a guessing number game following this flow chart: \n",
    "1.Randomize an integer 1-100\n",
    "2.User guess\n",
    "3.Correct answer?\n",
    "4. Yes/no?\n",
    "5. If yes, congratulate player if no, Give a clue increment number of guesses\n",
    "6. If the answer is no it goes back to the beginning. Before the user guess. "
   ]
  },
  {
   "cell_type": "markdown",
   "metadata": {},
   "source": [
    "b)Make an algorithm to automatically guess the correct number. Can you optimize to get as few guesses as possible? "
   ]
  },
  {
   "cell_type": "code",
   "execution_count": 4,
   "metadata": {},
   "outputs": [
    {
     "name": "stdout",
     "output_type": "stream",
     "text": [
      "Too high. Try again.\n",
      "Too high. Try again.\n",
      "Too high. Try again.\n",
      "Too high. Try again.\n",
      "Too high. Try again.\n",
      "Too low. Try again.\n",
      "Too high. Try again.\n",
      "Too high. Try again.\n",
      "Too high. Try again.\n",
      "Congratulations! You guessed the correct number: 42\n",
      "Number of guesses: 10\n"
     ]
    }
   ],
   "source": [
    "import random\n",
    "\n",
    "def guessing_game():\n",
    "    # Step 1: Randomize an integer between 1 and 100\n",
    "    secret_number = random.randint(1, 100)\n",
    "    guesses = 0\n",
    "\n",
    "    while True:\n",
    "        # Step 2: User guess\n",
    "        guess = int(input(\"Guess the number (between 1 and 100): \"))\n",
    "        guesses += 1\n",
    "        \n",
    "        # Step 3 & 4: Check if the guess is correct\n",
    "        if guess == secret_number:\n",
    "            print(\"Congratulations! You guessed the correct number:\", secret_number)\n",
    "            print(\"Number of guesses:\", guesses)\n",
    "            break\n",
    "        else:\n",
    "            # Step 5: Give a clue and increment the number of guesses\n",
    "            if guess < secret_number:\n",
    "                print(\"Too low. Try again.\")\n",
    "            else:\n",
    "                print(\"Too high. Try again.\")\n",
    "\n",
    "            # Step 6: Loop back to Step 2\n",
    "\n",
    "# Start the game\n",
    "guessing_game()"
   ]
  },
  {
   "cell_type": "code",
   "execution_count": 5,
   "metadata": {},
   "outputs": [
    {
     "name": "stdout",
     "output_type": "stream",
     "text": [
      "Secret number: 48\n",
      "Guessing: 50 Too high.\n",
      "Guessing: 25 Too low.\n",
      "Guessing: 37 Too low.\n",
      "Guessing: 43 Too low.\n",
      "Guessing: 46 Too low.\n",
      "Congratulations! You guessed the correct number: 48\n",
      "Number of guesses: 6\n"
     ]
    }
   ],
   "source": [
    "def auto_guessing_game():\n",
    "    # Step 1: Randomize an integer between 1 and 100\n",
    "    secret_number = random.randint(1, 100)\n",
    "    print(\"Secret number:\", secret_number)\n",
    "    guesses = 0\n",
    "    low = 1\n",
    "    high = 100\n",
    "\n",
    "    while True:\n",
    "        # Step 2: Guess the number using binary search\n",
    "        guess = (low + high) // 2\n",
    "        guesses += 1\n",
    "        \n",
    "        # Step 3 & 4: Check if the guess is correct\n",
    "        if guess == secret_number:\n",
    "            print(\"Congratulations! You guessed the correct number:\", secret_number)\n",
    "            print(\"Number of guesses:\", guesses)\n",
    "            break\n",
    "        elif guess < secret_number:\n",
    "            print(\"Guessing:\", guess, \"Too low.\")\n",
    "            low = guess + 1\n",
    "        else:\n",
    "            print(\"Guessing:\", guess, \"Too high.\")\n",
    "            high = guess - 1\n",
    "\n",
    "# Start the game\n",
    "auto_guessing_game()"
   ]
  },
  {
   "cell_type": "markdown",
   "metadata": {},
   "source": [
    "a)   Create a multiplication game following this flow chart:\n",
    "1.Randomize x and y from 1 to 10\n",
    "2. Ask user x time y\n",
    "3. Answer correct? yes/no?\n",
    "4. If answer is yes, \"Good work\" increment score. If answer is no, Write out the answer\n",
    "5. Ask if they want to play again\n",
    "6. If answer is no, Thank player and end the game. If answer is yes, it start over from the beginning."
   ]
  },
  {
   "cell_type": "code",
   "execution_count": null,
   "metadata": {},
   "outputs": [],
   "source": [
    "import random\n",
    "\n",
    "def multiplication_game():\n",
    "    score = 0\n",
    "    \n",
    "    while True:\n",
    "        # Step 1: Randomize x and y from 1 to 10\n",
    "        x = random.randint(1, 10)\n",
    "        y = random.randint(1, 10)\n",
    "        \n",
    "        # Step 2: Ask user x times y\n",
    "        answer = int(input(f\"What is {x} times {y}? \"))\n",
    "        \n",
    "        # Step 3 & 4: Check if the answer is correct\n",
    "        if answer == x * y:\n",
    "            print(\"Good work! That's correct.\")\n",
    "            score += 1\n",
    "        else:\n",
    "            print(\"Incorrect. The correct answer is:\", x * y)\n",
    "        \n",
    "        # Step 5: Ask if they want to play again\n",
    "        play_again = input(\"Do you want to play again? (yes/no): \")\n",
    "        if play_again.lower() != 'yes':\n",
    "            print(\"Thank you for playing!\")\n",
    "            print(\"Your final score:\", score)\n",
    "            break\n",
    "\n",
    "# Start the game\n",
    "multiplication_game()"
   ]
  },
  {
   "cell_type": "markdown",
   "metadata": {},
   "source": [
    "b) Add menu for choosing difficulty level of the game"
   ]
  },
  {
   "cell_type": "code",
   "execution_count": null,
   "metadata": {},
   "outputs": [],
   "source": [
    "import random\n",
    "\n",
    "def multiplication_game():\n",
    "    score = 0\n",
    "    \n",
    "    while True:\n",
    "        # Step 0: Choose difficulty level\n",
    "        print(\"\\nDifficulty Levels:\")\n",
    "        print(\"1. Easy (Numbers from 1 to 5)\")\n",
    "        print(\"2. Medium (Numbers from 1 to 10)\")\n",
    "        print(\"3. Hard (Numbers from 1 to 15)\")\n",
    "        print(\"4. Exit\")\n",
    "        choice = input(\"Choose difficulty level (1/2/3/4): \")\n",
    "        \n",
    "        if choice == '1':\n",
    "            max_number = 5\n",
    "        elif choice == '2':\n",
    "            max_number = 10\n",
    "        elif choice == '3':\n",
    "            max_number = 15\n",
    "        elif choice == '4':\n",
    "            print(\"Thank you for playing!\")\n",
    "            print(\"Your final score:\", score)\n",
    "            break\n",
    "        else:\n",
    "            print(\"Invalid choice. Please choose again.\")\n",
    "            continue\n",
    "\n",
    "        # Step 1: Randomize x and y from 1 to max_number\n",
    "        x = random.randint(1, max_number)\n",
    "        y = random.randint(1, max_number)\n",
    "        \n",
    "        # Step 2: Ask user x times y\n",
    "        answer = int(input(f\"What is {x} times {y}? \"))\n",
    "        \n",
    "        # Step 3 & 4: Check if the answer is correct\n",
    "        if answer == x * y:\n",
    "            print(\"Good work! That's correct.\")\n",
    "            score += 1\n",
    "        else:\n",
    "            print(\"Incorrect. The correct answer is:\", x * y)\n",
    "        \n",
    "        # Step 5: Ask if they want to play again\n",
    "        play_again = input(\"Do you want to play again? (yes/no): \")\n",
    "        if play_again.lower() != 'yes':\n",
    "            print(\"Thank you for playing!\")\n",
    "            print(\"Your final score:\", score)\n",
    "            break\n",
    "\n",
    "# Start the game\n",
    "multiplication_game()"
   ]
  }
 ],
 "metadata": {
  "kernelspec": {
   "display_name": "venv",
   "language": "python",
   "name": "python3"
  },
  "language_info": {
   "codemirror_mode": {
    "name": "ipython",
    "version": 3
   },
   "file_extension": ".py",
   "mimetype": "text/x-python",
   "name": "python",
   "nbconvert_exporter": "python",
   "pygments_lexer": "ipython3",
   "version": "3.11.7"
  }
 },
 "nbformat": 4,
 "nbformat_minor": 2
}
