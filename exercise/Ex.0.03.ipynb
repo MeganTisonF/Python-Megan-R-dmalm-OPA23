{
 "cells": [
  {
   "cell_type": "markdown",
   "metadata": {},
   "source": [
    "Use a for statement to count from:\n",
    "\n",
    "  a)   -10 to 10 with one increment (*)\n",
    "\n",
    "  b)   -10 to 10 with two increment (*)"
   ]
  },
  {
   "cell_type": "code",
   "execution_count": 2,
   "metadata": {},
   "outputs": [
    {
     "name": "stdout",
     "output_type": "stream",
     "text": [
      "Counting from -10 to 10 with one increment:\n",
      "-10 -9 -8 -7 -6 -5 -4 -3 -2 -1 0 1 2 3 4 5 6 7 8 9 10 \n",
      "Counting from -10 to 10 with two increments:\n",
      "-10 -8 -6 -4 -2 0 2 4 6 8 10 \n"
     ]
    }
   ],
   "source": [
    "print(\"Counting from -10 to 10 with one increment:\")\n",
    "for i in range(-10, 11):\n",
    "    print(i, end=\" \")\n",
    "print()\n",
    "\n",
    "print(\"Counting from -10 to 10 with two increments:\")\n",
    "for i in range(-10, 11, 2):\n",
    "    print(i, end=\" \")\n",
    "print()\n"
   ]
  },
  {
   "cell_type": "markdown",
   "metadata": {},
   "source": [
    "Use a for statement to compute the following sums:\n",
    "a) sum = 1 + 2 +...+ 99 + 100\n",
    "b) sum = 1 + 3 + 5 +...+ 97 + 99"
   ]
  },
  {
   "cell_type": "code",
   "execution_count": null,
   "metadata": {},
   "outputs": [],
   "source": [
    "# Initialize the sum\n",
    "sum_a = 0\n",
    "\n",
    "# Loop to compute the sum\n",
    "for i in range(1, 101):\n",
    "    sum_a += i\n",
    "\n",
    "print(\"Sum of numbers from 1 to 100:\", sum_a)\n",
    "\n",
    "\n",
    "\n",
    "\n",
    "# Initialize the sum\n",
    "sum_a = 0\n",
    "\n",
    "# Loop to compute the sum\n",
    "for i in range(1, 101):\n",
    "    sum_a += i\n",
    "\n",
    "print(\"Sum of numbers from 1 to 100:\", sum_a)"
   ]
  }
 ],
 "metadata": {
  "kernelspec": {
   "display_name": "venv",
   "language": "python",
   "name": "python3"
  },
  "language_info": {
   "codemirror_mode": {
    "name": "ipython",
    "version": 3
   },
   "file_extension": ".py",
   "mimetype": "text/x-python",
   "name": "python",
   "nbconvert_exporter": "python",
   "pygments_lexer": "ipython3",
   "version": "3.11.7"
  }
 },
 "nbformat": 4,
 "nbformat_minor": 2
}
