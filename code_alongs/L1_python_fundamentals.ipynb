{
 "cells": [
  {
   "cell_type": "markdown",
   "metadata": {},
   "source": [
    "# Python Fundamentals continued"
   ]
  },
  {
   "cell_type": "markdown",
   "metadata": {},
   "source": [
    "### if -statements \n",
    " - if\n",
    " - if - else \n",
    " - if - elif - elif -else \n",
    " - online if-statement"
   ]
  },
  {
   "cell_type": "code",
   "execution_count": 2,
   "metadata": {},
   "outputs": [
    {
     "name": "stdout",
     "output_type": "stream",
     "text": [
      "Accuracy level is 0.3, which is a bad performance\n"
     ]
    }
   ],
   "source": [
    "accuracy = .3\n",
    "if accuracy > .9:\n",
    "    model_performance = \"Good\"\n",
    "elif accuracy > .5:\n",
    "    model_performance = \"Moderate\"\n",
    "else:\n",
    "    model_performance = \"Bad\"\n",
    "    print (f\"Accuracy level is {accuracy}, which is a {model_performance.lower()} performance\")\n"
   ]
  },
  {
   "cell_type": "code",
   "execution_count": 3,
   "metadata": {},
   "outputs": [
    {
     "data": {
      "text/plain": [
       "'Not good'"
      ]
     },
     "execution_count": 3,
     "metadata": {},
     "output_type": "execute_result"
    }
   ],
   "source": [
    "# ternary operator : ? :\n",
    "performance = \"Good\" if accuracy > .9 else \"Not good\"\n",
    "performance"
   ]
  },
  {
   "cell_type": "markdown",
   "metadata": {},
   "source": [
    "## While statement"
   ]
  },
  {
   "cell_type": "markdown",
   "metadata": {},
   "source": [
    "- \"if-loop\"\n"
   ]
  },
  {
   "cell_type": "markdown",
   "metadata": {},
   "source": [
    "Example - oil leakage"
   ]
  },
  {
   "cell_type": "markdown",
   "metadata": {},
   "source": [
    "There is an oil leakage causing the bird population in an island to 1/2 in each year. From start there were 80000 birds, how many years does it take for it to have 1/10 remaning?"
   ]
  },
  {
   "cell_type": "code",
   "execution_count": 17,
   "metadata": {},
   "outputs": [
    {
     "name": "stdout",
     "output_type": "stream",
     "text": [
      "Det tar 4 år för fågelantalet att minska till 1/10 av det ursprungliga antalet.\n"
     ]
    }
   ],
   "source": [
    "birds = 80000\n",
    "years = 0\n",
    "\n",
    "while birds > 8000:  # Vi fortsätter så länge som det finns mer än 1/10 av det ursprungliga antalet fåglar kvar\n",
    "    birds /= 2       # Halvera fågelantalet varje år på grund av oljeläckaget\n",
    "    years += 1       # Öka antalet år med ett\n",
    "\n",
    "print(\"Det tar\", years, \"år för fågelantalet att minska till 1/10 av det ursprungliga antalet.\")\n",
    "   "
   ]
  },
  {
   "cell_type": "markdown",
   "metadata": {},
   "source": [
    "##### for statements"
   ]
  },
  {
   "cell_type": "code",
   "execution_count": 20,
   "metadata": {},
   "outputs": [
    {
     "name": "stdout",
     "output_type": "stream",
     "text": [
      "K-means\n",
      "PCA\n",
      "GMM\n",
      "K-means clustering\n",
      "Principal component analysis\n",
      "Gaussian Mixture Models\n"
     ]
    }
   ],
   "source": [
    "# Creates a list of abbreviations for unsupervised learning techniques\n",
    "unsupervised_abbreviations = [\"K-means\", \"PCA\", \"GMM\"]\n",
    "\n",
    "# Creates a list of corresponding full names for unsupervised learning techniques\n",
    "unsupervised_algorithms = [\"K-means clustering\", \"Principal component analysis\", \"Gaussian Mixture Models\"]\n",
    "\n",
    "# Iterates through the list of abbreviations and prints each abbreviation\n",
    "for abbreviation in unsupervised_abbreviations:\n",
    "    print (abbreviation)\n",
    "\n",
    "# Iterates through the list of full names and prints each full name\n",
    "for algorithms in unsupervised_algorithms:\n",
    "    print (algorithms)\n"
   ]
  },
  {
   "cell_type": "code",
   "execution_count": 21,
   "metadata": {},
   "outputs": [
    {
     "name": "stdout",
     "output_type": "stream",
     "text": [
      "0 K-means\n",
      "1 PCA\n",
      "2 GMM\n"
     ]
    }
   ],
   "source": [
    "## Loop through each item in the list 'unsupervised_abbreviations' along with its index using the 'enumerate' function\n",
    "for i, abbreviation in enumerate (unsupervised_abbreviations):\n",
    "    # Print the index 'i' and the corresponding abbreviation\n",
    "    print (i, abbreviation)"
   ]
  },
  {
   "cell_type": "code",
   "execution_count": 26,
   "metadata": {},
   "outputs": [
    {
     "name": "stdout",
     "output_type": "stream",
     "text": [
      "1 K-means\n",
      "2 PCA\n",
      "3 GMM\n"
     ]
    }
   ],
   "source": [
    "for i, abbreviation in enumerate(unsupervised_abbreviations,1):\n",
    "    print (i, abbreviation)"
   ]
  },
  {
   "cell_type": "markdown",
   "metadata": {},
   "source": [
    " zip() är en inbyggd funktion i Python som används för att kombinera element från flera listor (eller andra iterabla objekt) till en enda lista av tupler.\n",
    "\n",
    "När du använder zip() kommer den att para ihop elementen från de givna listorna och returnera en iterator över dessa tuple "
   ]
  },
  {
   "cell_type": "code",
   "execution_count": 27,
   "metadata": {},
   "outputs": [
    {
     "name": "stdout",
     "output_type": "stream",
     "text": [
      "K-means: K-means clustering\n",
      "PCA: Principal component analysis\n",
      "GMM: Gaussian Mixture Models\n"
     ]
    }
   ],
   "source": [
    "for abbreviation, full_name in zip(unsupervised_abbreviations, unsupervised_algorithms):\n",
    "    print (f\"{abbreviation}: {full_name}\")"
   ]
  },
  {
   "cell_type": "code",
   "execution_count": 29,
   "metadata": {},
   "outputs": [
    {
     "name": "stdout",
     "output_type": "stream",
     "text": [
      "1. K-means: K-means clustering\n",
      "2. PCA: Principal component analysis\n",
      "3. GMM: Gaussian Mixture Models\n"
     ]
    }
   ],
   "source": [
    "for i, (abbreviation, full_name) in enumerate (zip (unsupervised_abbreviations, unsupervised_algorithms), 1):\n",
    "    print (f\"{i}. {abbreviation}: {full_name}\")"
   ]
  },
  {
   "cell_type": "code",
   "execution_count": 31,
   "metadata": {},
   "outputs": [
    {
     "name": "stdout",
     "output_type": "stream",
     "text": [
      "0 Megan.Tison.Fajardo\n",
      "1 Megan.Tison.Fajardo\n",
      "2 Megan.Tison.Fajardo\n",
      "3 Megan.Tison.Fajardo\n",
      "4 Megan.Tison.Fajardo\n"
     ]
    }
   ],
   "source": [
    "for i in range (5):\n",
    "    print (i,\"Megan.Tison.Fajardo\")"
   ]
  },
  {
   "cell_type": "markdown",
   "metadata": {},
   "source": [
    "#### Dictionary"
   ]
  },
  {
   "cell_type": "markdown",
   "metadata": {},
   "source": [
    "- mapping keys to values\n",
    "- a value is associated with key"
   ]
  },
  {
   "cell_type": "code",
   "execution_count": 32,
   "metadata": {},
   "outputs": [
    {
     "data": {
      "text/plain": [
       "{'name': 'Megan', 'age': 29.3, 'loves_games': True}"
      ]
     },
     "execution_count": 32,
     "metadata": {},
     "output_type": "execute_result"
    }
   ],
   "source": [
    "person1 = dict(name=\"Megan\", age=29.3, loves_games = True)\n",
    "person1"
   ]
  },
  {
   "cell_type": "code",
   "execution_count": 34,
   "metadata": {},
   "outputs": [
    {
     "data": {
      "text/plain": [
       "dict_keys(['name', 'age', 'loves_games'])"
      ]
     },
     "execution_count": 34,
     "metadata": {},
     "output_type": "execute_result"
    }
   ],
   "source": [
    "person1.keys()"
   ]
  },
  {
   "cell_type": "code",
   "execution_count": 35,
   "metadata": {},
   "outputs": [
    {
     "data": {
      "text/plain": [
       "('Megan', True)"
      ]
     },
     "execution_count": 35,
     "metadata": {},
     "output_type": "execute_result"
    }
   ],
   "source": [
    "person1[\"name\"], person1[\"loves_games\"]"
   ]
  },
  {
   "cell_type": "code",
   "execution_count": 36,
   "metadata": {},
   "outputs": [
    {
     "name": "stdout",
     "output_type": "stream",
     "text": [
      "name : Megan\n",
      "age : 29.3\n",
      "loves_games : True\n"
     ]
    }
   ],
   "source": [
    "for key in person1:\n",
    "    print(key, \":\",person1[key])"
   ]
  },
  {
   "cell_type": "code",
   "execution_count": null,
   "metadata": {},
   "outputs": [],
   "source": []
  }
 ],
 "metadata": {
  "kernelspec": {
   "display_name": "venv",
   "language": "python",
   "name": "python3"
  },
  "language_info": {
   "codemirror_mode": {
    "name": "ipython",
    "version": 3
   },
   "file_extension": ".py",
   "mimetype": "text/x-python",
   "name": "python",
   "nbconvert_exporter": "python",
   "pygments_lexer": "ipython3",
   "version": "3.11.7"
  }
 },
 "nbformat": 4,
 "nbformat_minor": 2
}
